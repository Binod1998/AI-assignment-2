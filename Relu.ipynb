{
 "cells": [
  {
   "cell_type": "markdown",
   "id": "45b787c9-8c37-4309-9a31-0f75efc9d394",
   "metadata": {},
   "source": [
    "# Import Libraries"
   ]
  },
  {
   "cell_type": "code",
   "execution_count": 1,
   "id": "527098b6-6467-4d58-9585-26d5f0b3cbee",
   "metadata": {},
   "outputs": [],
   "source": [
    "import numpy as np\n",
    "import pandas as pd\n",
    "import matplotlib.pyplot as plt\n",
    "import seaborn as sns\n",
    "sns.set()\n",
    "import os\n",
    "import time\n",
    "import copy\n",
    "from sklearn.metrics import confusion_matrix"
   ]
  },
  {
   "cell_type": "code",
   "execution_count": 2,
   "id": "892ddd8e-87be-4627-8159-95184d04b0ee",
   "metadata": {},
   "outputs": [
    {
     "name": "stderr",
     "output_type": "stream",
     "text": [
      "C:\\Users\\bthak\\anaconda3\\envs\\ai\\Lib\\site-packages\\torch\\cuda\\__init__.py:749: UserWarning: CUDA initialization: The NVIDIA driver on your system is too old (found version 9020). Please update your GPU driver by downloading and installing a new version from the URL: http://www.nvidia.com/Download/index.aspx Alternatively, go to: https://pytorch.org to install a PyTorch version that has been compiled with your version of the CUDA driver. (Triggered internally at ..\\c10\\cuda\\CUDAFunctions.cpp:108.)\n",
      "  return torch._C._cuda_getDeviceCount() if nvml_count < 0 else nvml_count\n"
     ]
    }
   ],
   "source": [
    "import torch\n",
    "import torch.nn as nn\n",
    "import torch.optim as optim\n",
    "from torch.optim import lr_scheduler\n",
    "from torchvision import datasets, models, transforms"
   ]
  },
  {
   "cell_type": "code",
   "execution_count": 3,
   "id": "31d23de2-e172-4111-8cd8-09af43ae38e7",
   "metadata": {},
   "outputs": [],
   "source": [
    "data_transforms = {\n",
    "    'train': transforms.Compose([\n",
    "        transforms.RandomResizedCrop(224),\n",
    "        transforms.RandomHorizontalFlip(),\n",
    "        transforms.ToTensor(),\n",
    "        transforms.Normalize([0.485, 0.456, 0.406], [0.229, 0.224, 0.225])\n",
    "    ]),\n",
    "    'val': transforms.Compose([\n",
    "        transforms.Resize(256),\n",
    "        transforms.CenterCrop(224),\n",
    "        transforms.ToTensor(),\n",
    "        transforms.Normalize([0.485, 0.456, 0.406], [0.229, 0.224, 0.225])\n",
    "    ]), \n",
    "    'test': transforms.Compose([\n",
    "        transforms.Resize(256),\n",
    "        transforms.CenterCrop(224),\n",
    "        transforms.ToTensor(),\n",
    "        transforms.Normalize(mean=[0.485, 0.456, 0.406], std=[0.229, 0.224, 0.225])\n",
    "    ])\n",
    "}"
   ]
  },
  {
   "cell_type": "code",
   "execution_count": 4,
   "id": "d20bd3e6-8d7a-4dac-88f3-98cca4ea3f01",
   "metadata": {},
   "outputs": [
    {
     "name": "stdout",
     "output_type": "stream",
     "text": [
      "{'train': 1882, 'val': 401, 'test': 410}\n",
      "['cardboard', 'glass', 'ied_raw', 'metal', 'paper', 'plastic', 'trash']\n"
     ]
    }
   ],
   "source": [
    "data_dir = \"dataset\"\n",
    "image_datasets = {\n",
    "    x: datasets.ImageFolder(\n",
    "        os.path.join(data_dir, x), \n",
    "        data_transforms[x]\n",
    "    ) for x in [\"train\", \"val\", \"test\"]\n",
    "}\n",
    "dataloaders = {\n",
    "    x: torch.utils.data.DataLoader(\n",
    "        image_datasets[x], \n",
    "        batch_size=24, \n",
    "        shuffle=True,\n",
    "        num_workers=4\n",
    "    ) for x in [\"train\", \"val\", \"test\"]\n",
    "}\n",
    "dataset_sizes = {x: len(image_datasets[x]) for x in [\"train\", \"val\", \"test\"]}\n",
    "class_names = image_datasets[\"train\"].classes\n",
    "\n",
    "print(dataset_sizes)\n",
    "print(class_names)"
   ]
  },
  {
   "cell_type": "code",
   "execution_count": 5,
   "id": "fe818682-07dd-44c7-b2dc-11659e892a22",
   "metadata": {},
   "outputs": [
    {
     "data": {
      "text/plain": [
       "device(type='cpu')"
      ]
     },
     "execution_count": 5,
     "metadata": {},
     "output_type": "execute_result"
    }
   ],
   "source": [
    "device = torch.device(\"cuda:0\" if torch.cuda.is_available() else \"cpu\")\n",
    "device"
   ]
  },
  {
   "cell_type": "code",
   "execution_count": 6,
   "id": "c6818b77-8d2f-4b13-9cf4-50eaf9660649",
   "metadata": {},
   "outputs": [],
   "source": [
    "model = models.vit_b_16(weights=models.ViT_B_16_Weights.DEFAULT)"
   ]
  },
  {
   "cell_type": "code",
   "execution_count": 7,
   "id": "a555eab8-f4ee-4b45-97ac-f0ad7d91b480",
   "metadata": {},
   "outputs": [],
   "source": [
    "for param in model.parameters():\n",
    "    param.requires_grad = False"
   ]
  },
  {
   "cell_type": "code",
   "execution_count": 8,
   "id": "04471e0e-0755-4413-a6e3-f77baad60ccc",
   "metadata": {},
   "outputs": [
    {
     "data": {
      "text/plain": [
       "Sequential(\n",
       "  (head): Linear(in_features=768, out_features=1000, bias=True)\n",
       ")"
      ]
     },
     "execution_count": 8,
     "metadata": {},
     "output_type": "execute_result"
    }
   ],
   "source": [
    "model.heads"
   ]
  },
  {
   "cell_type": "code",
   "execution_count": 9,
   "id": "030ce3ba-d6c0-4cd5-bfc4-90cb4b803e9d",
   "metadata": {},
   "outputs": [],
   "source": [
    "num_features = model.heads[0].in_features\n",
    "model.heads = nn.Sequential(\n",
    "    nn.Linear(num_features, 512),\n",
    "    nn.ReLU(),\n",
    "    nn.Dropout(0.45),\n",
    "    nn.Linear(512, len(class_names))\n",
    ")\n",
    "model.heads.requires_grad = True\n",
    "model = model.to(device)"
   ]
  },
  {
   "cell_type": "code",
   "execution_count": 10,
   "id": "9fa33337-f7ae-4c75-8267-8a662f88b70a",
   "metadata": {},
   "outputs": [],
   "source": [
    "criterion = nn.CrossEntropyLoss()"
   ]
  },
  {
   "cell_type": "code",
   "execution_count": 11,
   "id": "c694e19e-46ed-4420-9633-ba848db35758",
   "metadata": {},
   "outputs": [
    {
     "data": {
      "text/plain": [
       "<bound method Module.parameters of Sequential(\n",
       "  (0): Linear(in_features=768, out_features=512, bias=True)\n",
       "  (1): ReLU()\n",
       "  (2): Dropout(p=0.45, inplace=False)\n",
       "  (3): Linear(in_features=512, out_features=7, bias=True)\n",
       ")>"
      ]
     },
     "execution_count": 11,
     "metadata": {},
     "output_type": "execute_result"
    }
   ],
   "source": [
    "model.heads.parameters"
   ]
  },
  {
   "cell_type": "code",
   "execution_count": 12,
   "id": "e8fb5cd4-5cb3-4d89-a311-61ede21cb4b4",
   "metadata": {},
   "outputs": [],
   "source": [
    "optimizer_ft = optim.Adam(model.heads.parameters(), lr = 0.0001)"
   ]
  },
  {
   "cell_type": "code",
   "execution_count": 13,
   "id": "5f53ea2c-42d0-4a3e-9ee3-20e91f3c1131",
   "metadata": {},
   "outputs": [
    {
     "name": "stdout",
     "output_type": "stream",
     "text": [
      "class_token False\n",
      "conv_proj.weight False\n",
      "conv_proj.bias False\n",
      "encoder.pos_embedding False\n",
      "encoder.layers.encoder_layer_0.ln_1.weight False\n",
      "encoder.layers.encoder_layer_0.ln_1.bias False\n",
      "encoder.layers.encoder_layer_0.self_attention.in_proj_weight False\n",
      "encoder.layers.encoder_layer_0.self_attention.in_proj_bias False\n",
      "encoder.layers.encoder_layer_0.self_attention.out_proj.weight False\n",
      "encoder.layers.encoder_layer_0.self_attention.out_proj.bias False\n",
      "encoder.layers.encoder_layer_0.ln_2.weight False\n",
      "encoder.layers.encoder_layer_0.ln_2.bias False\n",
      "encoder.layers.encoder_layer_0.mlp.0.weight False\n",
      "encoder.layers.encoder_layer_0.mlp.0.bias False\n",
      "encoder.layers.encoder_layer_0.mlp.3.weight False\n",
      "encoder.layers.encoder_layer_0.mlp.3.bias False\n",
      "encoder.layers.encoder_layer_1.ln_1.weight False\n",
      "encoder.layers.encoder_layer_1.ln_1.bias False\n",
      "encoder.layers.encoder_layer_1.self_attention.in_proj_weight False\n",
      "encoder.layers.encoder_layer_1.self_attention.in_proj_bias False\n",
      "encoder.layers.encoder_layer_1.self_attention.out_proj.weight False\n",
      "encoder.layers.encoder_layer_1.self_attention.out_proj.bias False\n",
      "encoder.layers.encoder_layer_1.ln_2.weight False\n",
      "encoder.layers.encoder_layer_1.ln_2.bias False\n",
      "encoder.layers.encoder_layer_1.mlp.0.weight False\n",
      "encoder.layers.encoder_layer_1.mlp.0.bias False\n",
      "encoder.layers.encoder_layer_1.mlp.3.weight False\n",
      "encoder.layers.encoder_layer_1.mlp.3.bias False\n",
      "encoder.layers.encoder_layer_2.ln_1.weight False\n",
      "encoder.layers.encoder_layer_2.ln_1.bias False\n",
      "encoder.layers.encoder_layer_2.self_attention.in_proj_weight False\n",
      "encoder.layers.encoder_layer_2.self_attention.in_proj_bias False\n",
      "encoder.layers.encoder_layer_2.self_attention.out_proj.weight False\n",
      "encoder.layers.encoder_layer_2.self_attention.out_proj.bias False\n",
      "encoder.layers.encoder_layer_2.ln_2.weight False\n",
      "encoder.layers.encoder_layer_2.ln_2.bias False\n",
      "encoder.layers.encoder_layer_2.mlp.0.weight False\n",
      "encoder.layers.encoder_layer_2.mlp.0.bias False\n",
      "encoder.layers.encoder_layer_2.mlp.3.weight False\n",
      "encoder.layers.encoder_layer_2.mlp.3.bias False\n",
      "encoder.layers.encoder_layer_3.ln_1.weight False\n",
      "encoder.layers.encoder_layer_3.ln_1.bias False\n",
      "encoder.layers.encoder_layer_3.self_attention.in_proj_weight False\n",
      "encoder.layers.encoder_layer_3.self_attention.in_proj_bias False\n",
      "encoder.layers.encoder_layer_3.self_attention.out_proj.weight False\n",
      "encoder.layers.encoder_layer_3.self_attention.out_proj.bias False\n",
      "encoder.layers.encoder_layer_3.ln_2.weight False\n",
      "encoder.layers.encoder_layer_3.ln_2.bias False\n",
      "encoder.layers.encoder_layer_3.mlp.0.weight False\n",
      "encoder.layers.encoder_layer_3.mlp.0.bias False\n",
      "encoder.layers.encoder_layer_3.mlp.3.weight False\n",
      "encoder.layers.encoder_layer_3.mlp.3.bias False\n",
      "encoder.layers.encoder_layer_4.ln_1.weight False\n",
      "encoder.layers.encoder_layer_4.ln_1.bias False\n",
      "encoder.layers.encoder_layer_4.self_attention.in_proj_weight False\n",
      "encoder.layers.encoder_layer_4.self_attention.in_proj_bias False\n",
      "encoder.layers.encoder_layer_4.self_attention.out_proj.weight False\n",
      "encoder.layers.encoder_layer_4.self_attention.out_proj.bias False\n",
      "encoder.layers.encoder_layer_4.ln_2.weight False\n",
      "encoder.layers.encoder_layer_4.ln_2.bias False\n",
      "encoder.layers.encoder_layer_4.mlp.0.weight False\n",
      "encoder.layers.encoder_layer_4.mlp.0.bias False\n",
      "encoder.layers.encoder_layer_4.mlp.3.weight False\n",
      "encoder.layers.encoder_layer_4.mlp.3.bias False\n",
      "encoder.layers.encoder_layer_5.ln_1.weight False\n",
      "encoder.layers.encoder_layer_5.ln_1.bias False\n",
      "encoder.layers.encoder_layer_5.self_attention.in_proj_weight False\n",
      "encoder.layers.encoder_layer_5.self_attention.in_proj_bias False\n",
      "encoder.layers.encoder_layer_5.self_attention.out_proj.weight False\n",
      "encoder.layers.encoder_layer_5.self_attention.out_proj.bias False\n",
      "encoder.layers.encoder_layer_5.ln_2.weight False\n",
      "encoder.layers.encoder_layer_5.ln_2.bias False\n",
      "encoder.layers.encoder_layer_5.mlp.0.weight False\n",
      "encoder.layers.encoder_layer_5.mlp.0.bias False\n",
      "encoder.layers.encoder_layer_5.mlp.3.weight False\n",
      "encoder.layers.encoder_layer_5.mlp.3.bias False\n",
      "encoder.layers.encoder_layer_6.ln_1.weight False\n",
      "encoder.layers.encoder_layer_6.ln_1.bias False\n",
      "encoder.layers.encoder_layer_6.self_attention.in_proj_weight False\n",
      "encoder.layers.encoder_layer_6.self_attention.in_proj_bias False\n",
      "encoder.layers.encoder_layer_6.self_attention.out_proj.weight False\n",
      "encoder.layers.encoder_layer_6.self_attention.out_proj.bias False\n",
      "encoder.layers.encoder_layer_6.ln_2.weight False\n",
      "encoder.layers.encoder_layer_6.ln_2.bias False\n",
      "encoder.layers.encoder_layer_6.mlp.0.weight False\n",
      "encoder.layers.encoder_layer_6.mlp.0.bias False\n",
      "encoder.layers.encoder_layer_6.mlp.3.weight False\n",
      "encoder.layers.encoder_layer_6.mlp.3.bias False\n",
      "encoder.layers.encoder_layer_7.ln_1.weight False\n",
      "encoder.layers.encoder_layer_7.ln_1.bias False\n",
      "encoder.layers.encoder_layer_7.self_attention.in_proj_weight False\n",
      "encoder.layers.encoder_layer_7.self_attention.in_proj_bias False\n",
      "encoder.layers.encoder_layer_7.self_attention.out_proj.weight False\n",
      "encoder.layers.encoder_layer_7.self_attention.out_proj.bias False\n",
      "encoder.layers.encoder_layer_7.ln_2.weight False\n",
      "encoder.layers.encoder_layer_7.ln_2.bias False\n",
      "encoder.layers.encoder_layer_7.mlp.0.weight False\n",
      "encoder.layers.encoder_layer_7.mlp.0.bias False\n",
      "encoder.layers.encoder_layer_7.mlp.3.weight False\n",
      "encoder.layers.encoder_layer_7.mlp.3.bias False\n",
      "encoder.layers.encoder_layer_8.ln_1.weight False\n",
      "encoder.layers.encoder_layer_8.ln_1.bias False\n",
      "encoder.layers.encoder_layer_8.self_attention.in_proj_weight False\n",
      "encoder.layers.encoder_layer_8.self_attention.in_proj_bias False\n",
      "encoder.layers.encoder_layer_8.self_attention.out_proj.weight False\n",
      "encoder.layers.encoder_layer_8.self_attention.out_proj.bias False\n",
      "encoder.layers.encoder_layer_8.ln_2.weight False\n",
      "encoder.layers.encoder_layer_8.ln_2.bias False\n",
      "encoder.layers.encoder_layer_8.mlp.0.weight False\n",
      "encoder.layers.encoder_layer_8.mlp.0.bias False\n",
      "encoder.layers.encoder_layer_8.mlp.3.weight False\n",
      "encoder.layers.encoder_layer_8.mlp.3.bias False\n",
      "encoder.layers.encoder_layer_9.ln_1.weight False\n",
      "encoder.layers.encoder_layer_9.ln_1.bias False\n",
      "encoder.layers.encoder_layer_9.self_attention.in_proj_weight False\n",
      "encoder.layers.encoder_layer_9.self_attention.in_proj_bias False\n",
      "encoder.layers.encoder_layer_9.self_attention.out_proj.weight False\n",
      "encoder.layers.encoder_layer_9.self_attention.out_proj.bias False\n",
      "encoder.layers.encoder_layer_9.ln_2.weight False\n",
      "encoder.layers.encoder_layer_9.ln_2.bias False\n",
      "encoder.layers.encoder_layer_9.mlp.0.weight False\n",
      "encoder.layers.encoder_layer_9.mlp.0.bias False\n",
      "encoder.layers.encoder_layer_9.mlp.3.weight False\n",
      "encoder.layers.encoder_layer_9.mlp.3.bias False\n",
      "encoder.layers.encoder_layer_10.ln_1.weight False\n",
      "encoder.layers.encoder_layer_10.ln_1.bias False\n",
      "encoder.layers.encoder_layer_10.self_attention.in_proj_weight False\n",
      "encoder.layers.encoder_layer_10.self_attention.in_proj_bias False\n",
      "encoder.layers.encoder_layer_10.self_attention.out_proj.weight False\n",
      "encoder.layers.encoder_layer_10.self_attention.out_proj.bias False\n",
      "encoder.layers.encoder_layer_10.ln_2.weight False\n",
      "encoder.layers.encoder_layer_10.ln_2.bias False\n",
      "encoder.layers.encoder_layer_10.mlp.0.weight False\n",
      "encoder.layers.encoder_layer_10.mlp.0.bias False\n",
      "encoder.layers.encoder_layer_10.mlp.3.weight False\n",
      "encoder.layers.encoder_layer_10.mlp.3.bias False\n",
      "encoder.layers.encoder_layer_11.ln_1.weight False\n",
      "encoder.layers.encoder_layer_11.ln_1.bias False\n",
      "encoder.layers.encoder_layer_11.self_attention.in_proj_weight False\n",
      "encoder.layers.encoder_layer_11.self_attention.in_proj_bias False\n",
      "encoder.layers.encoder_layer_11.self_attention.out_proj.weight False\n",
      "encoder.layers.encoder_layer_11.self_attention.out_proj.bias False\n",
      "encoder.layers.encoder_layer_11.ln_2.weight False\n",
      "encoder.layers.encoder_layer_11.ln_2.bias False\n",
      "encoder.layers.encoder_layer_11.mlp.0.weight False\n",
      "encoder.layers.encoder_layer_11.mlp.0.bias False\n",
      "encoder.layers.encoder_layer_11.mlp.3.weight False\n",
      "encoder.layers.encoder_layer_11.mlp.3.bias False\n",
      "encoder.ln.weight False\n",
      "encoder.ln.bias False\n",
      "heads.0.weight True\n",
      "heads.0.bias True\n",
      "heads.3.weight True\n",
      "heads.3.bias True\n"
     ]
    }
   ],
   "source": [
    "for name, param in model.named_parameters():\n",
    "    print(name, param.requires_grad)"
   ]
  },
  {
   "cell_type": "code",
   "execution_count": 14,
   "id": "49f50572-9052-4995-ad02-6c0b53b72595",
   "metadata": {},
   "outputs": [],
   "source": [
    "exp_lr_scheduler = lr_scheduler.StepLR(optimizer_ft, step_size=7, gamma=0.1)"
   ]
  },
  {
   "cell_type": "code",
   "execution_count": 15,
   "id": "a4d710ff-2b98-4ff4-8a78-01cfa826307d",
   "metadata": {},
   "outputs": [],
   "source": [
    "def train_model(model, criterion, optimizer, scheduler, num_epochs=10):\n",
    "    since = time.time()\n",
    "\n",
    "    best_model_wts = copy.deepcopy(model.state_dict())\n",
    "    best_acc = 0.0\n",
    "\n",
    "    train_losses = []\n",
    "    val_losses = []\n",
    "    train_accs = []\n",
    "    val_accs = []\n",
    "\n",
    "    for epoch in range(num_epochs):\n",
    "        epoch_start_time = time.time()\n",
    "        print('Epoch {}/{}'.format(epoch, num_epochs - 1))\n",
    "        print('-' * 10)\n",
    "\n",
    "        # Each epoch has a training and validation phase\n",
    "        for phase in ['train', 'val']:\n",
    "            if phase == 'train':\n",
    "                model.train()  # Set model to training mode\n",
    "            else:\n",
    "                model.eval()   # Set model to evaluate mode\n",
    "\n",
    "            running_loss = 0.0\n",
    "            running_corrects = 0\n",
    "\n",
    "            # Iterate over data.\n",
    "            for inputs, labels in dataloaders[phase]:\n",
    "                inputs = inputs.to(device)\n",
    "                labels = labels.to(device)\n",
    "\n",
    "                # Zero the parameter gradients\n",
    "                optimizer.zero_grad()\n",
    "\n",
    "                # Forward\n",
    "                # Track history if only in train\n",
    "                with torch.set_grad_enabled(phase == 'train'):\n",
    "                    outputs = model(inputs)\n",
    "                    _, preds = torch.max(outputs, 1)\n",
    "                    loss = criterion(outputs, labels)\n",
    "\n",
    "                    # Backward + optimize only if in training phase\n",
    "                    if phase == 'train':\n",
    "                        loss.backward()\n",
    "                        optimizer.step()\n",
    "\n",
    "                # Statistics\n",
    "                running_loss += loss.item() * inputs.size(0)\n",
    "                running_corrects += torch.sum(preds == labels.data)\n",
    "\n",
    "            if phase == 'train':\n",
    "                scheduler.step()\n",
    "\n",
    "            epoch_loss = running_loss / dataset_sizes[phase]\n",
    "            epoch_acc = running_corrects.double() / dataset_sizes[phase]\n",
    "\n",
    "            print('{} Loss: {:.4f} Acc: {:.4f}'.format(\n",
    "                phase, epoch_loss, epoch_acc))\n",
    "\n",
    "            if phase == 'train':\n",
    "                train_losses.append(epoch_loss)\n",
    "                train_accs.append(epoch_acc)\n",
    "            else:\n",
    "                val_losses.append(epoch_loss)\n",
    "                val_accs.append(epoch_acc)\n",
    "\n",
    "            # Deep copy the model\n",
    "            if phase == 'val' and epoch_acc > best_acc:\n",
    "                best_acc = epoch_acc\n",
    "                best_model_wts = copy.deepcopy(model.state_dict())\n",
    "\n",
    "        print()\n",
    "\n",
    "    time_elapsed = time.time() - since\n",
    "    print('Training complete in {:.0f}m {:.0f}s'.format(\n",
    "        time_elapsed // 60, time_elapsed % 60))\n",
    "    print('Best val Acc: {:4f}'.format(best_acc))\n",
    "\n",
    "    # Load best model weights\n",
    "    model.load_state_dict(best_model_wts)\n",
    "    # Plot loss and accuracy curves\n",
    "    plt.figure(figsize=(10, 5))\n",
    "    plt.subplot(1, 2, 1)\n",
    "    plt.plot(range(1, num_epochs + 1), train_losses, label='Train')\n",
    "    plt.plot(range(1, num_epochs + 1), val_losses, label='Validation')\n",
    "    plt.xlabel('Epoch')\n",
    "    plt.ylabel('Loss')\n",
    "    plt.title('Loss Curves')\n",
    "    plt.legend()\n",
    "\n",
    "    plt.subplot(1, 2, 2)\n",
    "    plt.plot(range(1, num_epochs + 1), train_accs, label='Train')\n",
    "    plt.plot(range(1, num_epochs + 1), val_accs, label='Validation')\n",
    "    plt.xlabel('Epoch')\n",
    "    plt.ylabel('Accuracy')\n",
    "    plt.title('Accuracy Curves')\n",
    "    plt.legend()\n",
    "    plt.show()\n",
    "    return model, time_elapsed"
   ]
  },
  {
   "cell_type": "code",
   "execution_count": 16,
   "id": "4db71920-b9b9-4da5-b299-2341ab17bab3",
   "metadata": {},
   "outputs": [
    {
     "name": "stdout",
     "output_type": "stream",
     "text": [
      "Epoch 0/4\n",
      "----------\n",
      "train Loss: 1.4790 Acc: 0.5855\n",
      "val Loss: 1.0308 Acc: 0.7556\n",
      "\n",
      "Epoch 1/4\n",
      "----------\n",
      "train Loss: 0.9198 Acc: 0.7290\n",
      "val Loss: 0.7100 Acc: 0.8055\n",
      "\n",
      "Epoch 2/4\n",
      "----------\n",
      "train Loss: 0.7057 Acc: 0.7869\n",
      "val Loss: 0.5724 Acc: 0.8454\n",
      "\n",
      "Epoch 3/4\n",
      "----------\n",
      "train Loss: 0.5907 Acc: 0.8183\n",
      "val Loss: 0.4958 Acc: 0.8603\n",
      "\n",
      "Epoch 4/4\n",
      "----------\n",
      "train Loss: 0.5424 Acc: 0.8252\n",
      "val Loss: 0.4495 Acc: 0.8653\n",
      "\n",
      "Training complete in 157m 59s\n",
      "Best val Acc: 0.865337\n"
     ]
    },
    {
     "data": {
      "image/png": "[encoded data removed]",
      "text/plain": [
       "<Figure size 1000x500 with 2 Axes>"
      ]
     },
     "metadata": {},
     "output_type": "display_data"
    }
   ],
   "source": [
    "# Train the model\n",
    "start_time = time.time()\n",
    "model_ft, training_time = train_model(model, criterion, optimizer_ft, exp_lr_scheduler, num_epochs=5)\n",
    "finish_time = start_time + training_time\n",
    "training_time_minutes = training_time / 60"
   ]
  },
  {
   "cell_type": "code",
   "execution_count": 17,
   "id": "40490a58-a072-43b0-8d4a-58ad69b1ea45",
   "metadata": {},
   "outputs": [],
   "source": [
    "def test_model(model, dataloader):\n",
    "    model.eval()\n",
    "\n",
    "    corrects = 0\n",
    "    total = 0\n",
    "\n",
    "    all_preds = []\n",
    "    all_labels = []\n",
    "    \n",
    "\n",
    "    with torch.no_grad():\n",
    "        for inputs, labels in dataloader:\n",
    "            inputs = inputs.to(device)\n",
    "            labels = labels.to(device)\n",
    "            output = model(inputs)\n",
    "            _, predicted = torch.max(output, 1)\n",
    "            total += labels.size(0)\n",
    "            corrects += (predicted == labels).sum().item()\n",
    "\n",
    "            all_preds.extend(predicted.cpu().numpy())\n",
    "            all_labels.extend(labels.cpu().numpy())\n",
    "            \n",
    "    accuracy = corrects/total\n",
    "    cm = confusion_matrix(all_labels, all_preds)\n",
    "    \n",
    "    print(f\"Correct pred: {corrects}\")\n",
    "    print(f\"Total pred: {total}\")\n",
    "    print(f\"Test Accuracy: {accuracy}\")\n",
    "\n",
    "    plt.figure(figsize=(8, 6))\n",
    "    sns.heatmap(\n",
    "        cm, \n",
    "        annot=True, \n",
    "        fmt=\"d\", \n",
    "        cmap=\"Blues\", \n",
    "        xticklabels=class_names, \n",
    "        yticklabels=class_names\n",
    "    )\n",
    "    plt.xlabel(\"Prediction\")\n",
    "    plt.ylabel(\"True\")\n",
    "    plt.title(\"Confusion Matrix\")\n",
    "    plt.show()"
   ]
  },
  {
   "cell_type": "code",
   "execution_count": 18,
   "id": "1604e36a-ce22-463a-9d57-a7d7d5747097",
   "metadata": {},
   "outputs": [
    {
     "name": "stdout",
     "output_type": "stream",
     "text": [
      "Correct pred: 356\n",
      "Total pred: 410\n",
      "Test Accuracy: 0.8682926829268293\n"
     ]
    },
    {
     "data": {
      "image/png": "[encoded data removed]",
      "text/plain": [
       "<Figure size 800x600 with 2 Axes>"
      ]
     },
     "metadata": {},
     "output_type": "display_data"
    }
   ],
   "source": [
    "start_time = time.time()\n",
    "test_model(model_ft, dataloaders[\"test\"])\n",
    "end_time = time.time()\n",
    "testing_time = (end_time - start_time) / 60"
   ]
  }
 ],
 "metadata": {
  "kernelspec": {
   "display_name": "Python 3 (ipykernel)",
   "language": "python",
   "name": "python3"
  },
  "language_info": {
   "codemirror_mode": {
    "name": "ipython",
    "version": 3
   },
   "file_extension": ".py",
   "mimetype": "text/x-python",
   "name": "python",
   "nbconvert_exporter": "python",
   "pygments_lexer": "ipython3",
   "version": "3.12.3"
  }
 },
 "nbformat": 4,
 "nbformat_minor": 5
}
